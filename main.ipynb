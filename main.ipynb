{
 "cells": [
  {
   "cell_type": "code",
   "execution_count": 1,
   "metadata": {},
   "outputs": [],
   "source": [
    "import numpy as np\n",
    "import pandas as pd\n",
    "import math\n",
    "import matplotlib.pyplot as plt"
   ]
  },
  {
   "cell_type": "code",
   "execution_count": 2,
   "metadata": {},
   "outputs": [
    {
     "data": {
      "text/html": [
       "<div>\n",
       "<style scoped>\n",
       "    .dataframe tbody tr th:only-of-type {\n",
       "        vertical-align: middle;\n",
       "    }\n",
       "\n",
       "    .dataframe tbody tr th {\n",
       "        vertical-align: top;\n",
       "    }\n",
       "\n",
       "    .dataframe thead th {\n",
       "        text-align: right;\n",
       "    }\n",
       "</style>\n",
       "<table border=\"1\" class=\"dataframe\">\n",
       "  <thead>\n",
       "    <tr style=\"text-align: right;\">\n",
       "      <th></th>\n",
       "      <th>Ad 1</th>\n",
       "      <th>Ad 2</th>\n",
       "      <th>Ad 3</th>\n",
       "      <th>Ad 4</th>\n",
       "      <th>Ad 5</th>\n",
       "      <th>Ad 6</th>\n",
       "      <th>Ad 7</th>\n",
       "      <th>Ad 8</th>\n",
       "      <th>Ad 9</th>\n",
       "      <th>Ad 10</th>\n",
       "    </tr>\n",
       "  </thead>\n",
       "  <tbody>\n",
       "    <tr>\n",
       "      <th>0</th>\n",
       "      <td>1</td>\n",
       "      <td>0</td>\n",
       "      <td>0</td>\n",
       "      <td>0</td>\n",
       "      <td>1</td>\n",
       "      <td>0</td>\n",
       "      <td>0</td>\n",
       "      <td>0</td>\n",
       "      <td>1</td>\n",
       "      <td>0</td>\n",
       "    </tr>\n",
       "    <tr>\n",
       "      <th>1</th>\n",
       "      <td>0</td>\n",
       "      <td>0</td>\n",
       "      <td>0</td>\n",
       "      <td>0</td>\n",
       "      <td>0</td>\n",
       "      <td>0</td>\n",
       "      <td>0</td>\n",
       "      <td>0</td>\n",
       "      <td>1</td>\n",
       "      <td>0</td>\n",
       "    </tr>\n",
       "    <tr>\n",
       "      <th>2</th>\n",
       "      <td>0</td>\n",
       "      <td>0</td>\n",
       "      <td>0</td>\n",
       "      <td>0</td>\n",
       "      <td>0</td>\n",
       "      <td>0</td>\n",
       "      <td>0</td>\n",
       "      <td>0</td>\n",
       "      <td>0</td>\n",
       "      <td>0</td>\n",
       "    </tr>\n",
       "    <tr>\n",
       "      <th>3</th>\n",
       "      <td>0</td>\n",
       "      <td>1</td>\n",
       "      <td>0</td>\n",
       "      <td>0</td>\n",
       "      <td>0</td>\n",
       "      <td>0</td>\n",
       "      <td>0</td>\n",
       "      <td>1</td>\n",
       "      <td>0</td>\n",
       "      <td>0</td>\n",
       "    </tr>\n",
       "    <tr>\n",
       "      <th>4</th>\n",
       "      <td>0</td>\n",
       "      <td>0</td>\n",
       "      <td>0</td>\n",
       "      <td>0</td>\n",
       "      <td>0</td>\n",
       "      <td>0</td>\n",
       "      <td>0</td>\n",
       "      <td>0</td>\n",
       "      <td>0</td>\n",
       "      <td>0</td>\n",
       "    </tr>\n",
       "  </tbody>\n",
       "</table>\n",
       "</div>"
      ],
      "text/plain": [
       "   Ad 1  Ad 2  Ad 3  Ad 4  Ad 5  Ad 6  Ad 7  Ad 8  Ad 9  Ad 10\n",
       "0     1     0     0     0     1     0     0     0     1      0\n",
       "1     0     0     0     0     0     0     0     0     1      0\n",
       "2     0     0     0     0     0     0     0     0     0      0\n",
       "3     0     1     0     0     0     0     0     1     0      0\n",
       "4     0     0     0     0     0     0     0     0     0      0"
      ]
     },
     "execution_count": 2,
     "metadata": {},
     "output_type": "execute_result"
    }
   ],
   "source": [
    "df = pd.read_csv('./data/Ads_CTR_Optimisation.csv') #Thanks Udemy _/\\_\n",
    "df.head()"
   ]
  },
  {
   "cell_type": "markdown",
   "metadata": {},
   "source": [
    "<br>\n",
    "<br>\n",
    "<br>\n",
    "<img src=\"img/UCB_pseudocode.jpeg\" width=600 height=600 />"
   ]
  },
  {
   "cell_type": "code",
   "execution_count": 3,
   "metadata": {},
   "outputs": [],
   "source": [
    "''' Step 1 '''\n",
    "N = len(df)                   # จำนวนรอบทั้งหมดที่เราจะทำการยิง ad\n",
    "d = 10                        # จำนวน ad \n",
    "numbers_of_selections = [0]*d # N(n) จำนวนครั้งที่adsแต่ละตัวถูกexploit \n",
    "                              # เช่น [5, 0, ...] แปลว่า Ad ตัวที่1ถูกเลือกมาใช้แล้ว5ครั้ง ตัวที่2ถูกเลือก0ครั้ง ฯลฯ\n",
    "\n",
    "sum_of_rewards = [0]*d        # R(n) ผลรวมrewardที่ adsแต่ละตัวสร้างไว้ \n",
    "                              # เช่น [120, 47, ...] แปลว่า Ad ตัวที่1มีrewardสะสม120คะแนน ตัวที่2 47คะแนน ฯลฯ\n",
    "\n",
    "total_reward = 0              # reward รวมทั้งหมดที่เราได้รับขณะรันแคมเปญ\n",
    "\n",
    "\n",
    "''' Step 2 '''\n",
    "for n in range(N):\n",
    "    ad = 0\n",
    "    max_upper_bound = 0\n",
    "    for i in range(d):\n",
    "        if numbers_of_selections[i] > 0:\n",
    "            r_hat = sum_of_rewards[i] / numbers_of_selections[i]             # Expected Value ของ Ad ตัวที่ i\n",
    "            delta_i = (3/2 * math.log(n+1) / numbers_of_selections[i])**0.5  # Confidence Interval ของ Ad ตัวที่ i ณ รอบที่ n\n",
    "            upper_bound = r_hat + delta_i                                    # ค่าUCB \n",
    "        else:\n",
    "            upper_bound = 1e100\n",
    "        \n",
    "        if upper_bound > max_upper_bound:\n",
    "            max_upper_bound = upper_bound\n",
    "            ''' Step 3 '''\n",
    "            ad = i    #เลือกAd ตัวที่มีค่าUCBมากที่สุดมา exploit\n",
    "    \n",
    "    numbers_of_selections[ad] += 1\n",
    "    reward = df.values[n, ad]\n",
    "    sum_of_rewards[ad] += reward\n",
    "    total_reward += reward"
   ]
  },
  {
   "cell_type": "code",
   "execution_count": 4,
   "metadata": {},
   "outputs": [
    {
     "data": {
      "image/png": "[encoded data removed]",
      "text/plain": [
       "<Figure size 432x288 with 1 Axes>"
      ]
     },
     "metadata": {
      "needs_background": "light"
     },
     "output_type": "display_data"
    }
   ],
   "source": [
    "plt.bar(df.columns, numbers_of_selections)\n",
    "plt.xlabel('Ads')\n",
    "plt.ylabel('Number of times each ad was selected')\n",
    "plt.show()"
   ]
  },
  {
   "cell_type": "code",
   "execution_count": 5,
   "metadata": {},
   "outputs": [
    {
     "name": "stdout",
     "output_type": "stream",
     "text": [
      "Ad 1     1703\n",
      "Ad 2     1295\n",
      "Ad 3      728\n",
      "Ad 4     1196\n",
      "Ad 5     2695\n",
      "Ad 6      126\n",
      "Ad 7     1112\n",
      "Ad 8     2091\n",
      "Ad 9      952\n",
      "Ad 10     489\n",
      "dtype: int64\n",
      "2178\n"
     ]
    }
   ],
   "source": [
    "print(df.sum())\n",
    "print(total_reward)"
   ]
  },
  {
   "cell_type": "markdown",
   "metadata": {},
   "source": [
    "<h3>ถ้าเรายิงแต่Ad 5 หรือ Ad 8 เราจะได้2000++คะแนน แน่ๆ จริงมั้ย? </h3><br> \n",
    "แต่ประเด็นคือ ตอนเรากำลังรันแคมเปญเนี่ย เราไม่รู้หรอกว่าadอันไหนดีที่สุด<br>\n",
    "การที่เราต้องเจอกับExplore-Exploit Dilemma และสามารถทำคะแนนได้ 2178 ถือว่าดีมากในโลกแห่งความเป็นจริง<br>\n",
    "แถมทำให้เรารู้ว่าAd 5 คือ Ad ตัวที่ดีที่สุดจริงๆ"
   ]
  },
  {
   "cell_type": "markdown",
   "metadata": {},
   "source": [
    "<b>แล้วถ้าหากในความเป็นจริงเรารันแคมเปญที่ว่านี้แค่400รอบล่ะ?</b>"
   ]
  },
  {
   "cell_type": "code",
   "execution_count": 6,
   "metadata": {},
   "outputs": [
    {
     "data": {
      "image/png": "[encoded data removed]",
      "text/plain": [
       "<Figure size 432x288 with 1 Axes>"
      ]
     },
     "metadata": {
      "needs_background": "light"
     },
     "output_type": "display_data"
    },
    {
     "name": "stdout",
     "output_type": "stream",
     "text": [
      "Total Reward : 49\n"
     ]
    }
   ],
   "source": [
    "N = 400                  \n",
    "d = 10                         \n",
    "numbers_of_selections = [0]*d \n",
    "sum_of_rewards = [0]*d         \n",
    "total_reward = 0              \n",
    "\n",
    "\n",
    "for n in range(N):\n",
    "    ad = 0\n",
    "    max_upper_bound = 0\n",
    "    for i in range(d):\n",
    "        if numbers_of_selections[i] > 0:\n",
    "            r_hat = sum_of_rewards[i] / numbers_of_selections[i]             \n",
    "            delta_i = (3/2 * math.log(n+1) / numbers_of_selections[i])**0.5\n",
    "            upper_bound = r_hat + delta_i    \n",
    "        else:\n",
    "            upper_bound = 1e100\n",
    "        \n",
    "        if upper_bound > max_upper_bound:\n",
    "            max_upper_bound = upper_bound\n",
    "            ad = i    \n",
    "    \n",
    "    numbers_of_selections[ad] += 1\n",
    "    reward = df.values[n, ad]\n",
    "    sum_of_rewards[ad] += reward\n",
    "    total_reward += reward\n",
    "\n",
    "plt.bar(df.columns, numbers_of_selections)\n",
    "plt.xlabel('Ads')\n",
    "plt.ylabel('Number of times each ad was selected')\n",
    "plt.show()\n",
    "\n",
    "print(\"Total Reward :\", total_reward)"
   ]
  },
  {
   "cell_type": "markdown",
   "metadata": {},
   "source": [
    "ดูเหมือนว่าพอเป็น400รอบ UCBกลับไม่เวิร์คขึ้นมาซะอย่างงั้น..."
   ]
  },
  {
   "cell_type": "markdown",
   "metadata": {},
   "source": [
    "<b>สรุป</b> UCBจะมีประสิทธิภาพมากขึ้น หากเรามีจำนวนรอบให้Exploreมากขึ้น และแน่นอนว่ามันเวิร์คกว่า A/B Testing!"
   ]
  }
 ],
 "metadata": {
  "kernelspec": {
   "display_name": "Python 3",
   "language": "python",
   "name": "python3"
  },
  "language_info": {
   "codemirror_mode": {
    "name": "ipython",
    "version": 3
   },
   "file_extension": ".py",
   "mimetype": "text/x-python",
   "name": "python",
   "nbconvert_exporter": "python",
   "pygments_lexer": "ipython3",
   "version": "3.8.3"
  }
 },
 "nbformat": 4,
 "nbformat_minor": 4
}
